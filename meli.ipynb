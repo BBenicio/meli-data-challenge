{
 "cells": [
  {
   "cell_type": "markdown",
   "metadata": {},
   "source": [
    "# MeLi Data Challenge\n",
    "Temos os dados de anúncios do Mercado Livre e o objetivo é dizer quanto tempo (entre 1 e 30 dias) levaria um certo estoque para ser completamente vendido."
   ]
  },
  {
   "cell_type": "markdown",
   "metadata": {},
   "source": [
    "## Primeiros Passos"
   ]
  },
  {
   "cell_type": "code",
   "execution_count": 1,
   "metadata": {},
   "outputs": [],
   "source": [
    "import pandas as pd"
   ]
  },
  {
   "cell_type": "markdown",
   "metadata": {},
   "source": [
    "## Lendo os arquivos\n",
    "Foram disponibilizados alguns arquivos diferentes, o de treino está em um arquivo .parquet e os itens estão em um arquivo .jsonline\n",
    "Depois iremos ler também um arquivo para teste, mas isso não se aplica agora"
   ]
  },
  {
   "cell_type": "code",
   "execution_count": 2,
   "metadata": {},
   "outputs": [
    {
     "data": {
      "text/html": [
       "<div>\n",
       "<style scoped>\n",
       "    .dataframe tbody tr th:only-of-type {\n",
       "        vertical-align: middle;\n",
       "    }\n",
       "\n",
       "    .dataframe tbody tr th {\n",
       "        vertical-align: top;\n",
       "    }\n",
       "\n",
       "    .dataframe thead th {\n",
       "        text-align: right;\n",
       "    }\n",
       "</style>\n",
       "<table border=\"1\" class=\"dataframe\">\n",
       "  <thead>\n",
       "    <tr style=\"text-align: right;\">\n",
       "      <th></th>\n",
       "      <th>sku</th>\n",
       "      <th>date</th>\n",
       "      <th>sold_quantity</th>\n",
       "      <th>current_price</th>\n",
       "      <th>currency</th>\n",
       "      <th>listing_type</th>\n",
       "      <th>shipping_logistic_type</th>\n",
       "      <th>shipping_payment</th>\n",
       "      <th>minutes_active</th>\n",
       "    </tr>\n",
       "  </thead>\n",
       "  <tbody>\n",
       "    <tr>\n",
       "      <th>0</th>\n",
       "      <td>464801</td>\n",
       "      <td>2021-02-01</td>\n",
       "      <td>0</td>\n",
       "      <td>156.78</td>\n",
       "      <td>REA</td>\n",
       "      <td>classic</td>\n",
       "      <td>fulfillment</td>\n",
       "      <td>free_shipping</td>\n",
       "      <td>1440.0</td>\n",
       "    </tr>\n",
       "    <tr>\n",
       "      <th>1</th>\n",
       "      <td>464801</td>\n",
       "      <td>2021-02-02</td>\n",
       "      <td>0</td>\n",
       "      <td>156.78</td>\n",
       "      <td>REA</td>\n",
       "      <td>classic</td>\n",
       "      <td>fulfillment</td>\n",
       "      <td>free_shipping</td>\n",
       "      <td>1440.0</td>\n",
       "    </tr>\n",
       "    <tr>\n",
       "      <th>2</th>\n",
       "      <td>464801</td>\n",
       "      <td>2021-02-03</td>\n",
       "      <td>0</td>\n",
       "      <td>156.78</td>\n",
       "      <td>REA</td>\n",
       "      <td>classic</td>\n",
       "      <td>fulfillment</td>\n",
       "      <td>free_shipping</td>\n",
       "      <td>1440.0</td>\n",
       "    </tr>\n",
       "    <tr>\n",
       "      <th>3</th>\n",
       "      <td>464801</td>\n",
       "      <td>2021-02-04</td>\n",
       "      <td>0</td>\n",
       "      <td>156.78</td>\n",
       "      <td>REA</td>\n",
       "      <td>classic</td>\n",
       "      <td>fulfillment</td>\n",
       "      <td>free_shipping</td>\n",
       "      <td>1440.0</td>\n",
       "    </tr>\n",
       "    <tr>\n",
       "      <th>4</th>\n",
       "      <td>464801</td>\n",
       "      <td>2021-02-05</td>\n",
       "      <td>1</td>\n",
       "      <td>156.78</td>\n",
       "      <td>REA</td>\n",
       "      <td>classic</td>\n",
       "      <td>fulfillment</td>\n",
       "      <td>free_shipping</td>\n",
       "      <td>1440.0</td>\n",
       "    </tr>\n",
       "  </tbody>\n",
       "</table>\n",
       "</div>"
      ],
      "text/plain": [
       "      sku        date  sold_quantity  current_price currency listing_type  \\\n",
       "0  464801  2021-02-01              0         156.78      REA      classic   \n",
       "1  464801  2021-02-02              0         156.78      REA      classic   \n",
       "2  464801  2021-02-03              0         156.78      REA      classic   \n",
       "3  464801  2021-02-04              0         156.78      REA      classic   \n",
       "4  464801  2021-02-05              1         156.78      REA      classic   \n",
       "\n",
       "  shipping_logistic_type shipping_payment  minutes_active  \n",
       "0            fulfillment    free_shipping          1440.0  \n",
       "1            fulfillment    free_shipping          1440.0  \n",
       "2            fulfillment    free_shipping          1440.0  \n",
       "3            fulfillment    free_shipping          1440.0  \n",
       "4            fulfillment    free_shipping          1440.0  "
      ]
     },
     "execution_count": 2,
     "metadata": {},
     "output_type": "execute_result"
    }
   ],
   "source": [
    "df = pd.read_parquet('train_data.parquet', engine='pyarrow')\n",
    "df.head()"
   ]
  },
  {
   "cell_type": "code",
   "execution_count": 3,
   "metadata": {},
   "outputs": [
    {
     "name": "stdout",
     "output_type": "stream",
     "text": [
      "<class 'pandas.core.frame.DataFrame'>\n",
      "RangeIndex: 37660279 entries, 0 to 37660278\n",
      "Data columns (total 9 columns):\n",
      " #   Column                  Dtype  \n",
      "---  ------                  -----  \n",
      " 0   sku                     int64  \n",
      " 1   date                    object \n",
      " 2   sold_quantity           int64  \n",
      " 3   current_price           float64\n",
      " 4   currency                object \n",
      " 5   listing_type            object \n",
      " 6   shipping_logistic_type  object \n",
      " 7   shipping_payment        object \n",
      " 8   minutes_active          float64\n",
      "dtypes: float64(2), int64(2), object(5)\n",
      "memory usage: 2.5+ GB\n"
     ]
    }
   ],
   "source": [
    "df.info()"
   ]
  },
  {
   "cell_type": "markdown",
   "metadata": {},
   "source": [
    "### Reduzindo o uso de memória\n",
    "Este DataFrame está usando bastante espaço em memória, vamos tentar reduzir este espaço usado trocando as formas de armazenar cada coluna para formas mais eficientes"
   ]
  },
  {
   "cell_type": "code",
   "execution_count": 4,
   "metadata": {},
   "outputs": [
    {
     "data": {
      "text/plain": [
       "Index                            128\n",
       "sku                        301282232\n",
       "date                      2523238693\n",
       "sold_quantity              301282232\n",
       "current_price              301282232\n",
       "currency                  2259616740\n",
       "listing_type              2410257856\n",
       "shipping_logistic_type    2557613835\n",
       "shipping_payment          2636219530\n",
       "minutes_active             301282232\n",
       "dtype: int64"
      ]
     },
     "execution_count": 4,
     "metadata": {},
     "output_type": "execute_result"
    }
   ],
   "source": [
    "mem_before = df.memory_usage(deep=True).sum()\n",
    "df.memory_usage(deep=True)"
   ]
  },
  {
   "cell_type": "code",
   "execution_count": 5,
   "metadata": {},
   "outputs": [
    {
     "name": "stdout",
     "output_type": "stream",
     "text": [
      "<class 'pandas.core.frame.DataFrame'>\n",
      "RangeIndex: 37660279 entries, 0 to 37660278\n",
      "Data columns (total 9 columns):\n",
      " #   Column                  Dtype         \n",
      "---  ------                  -----         \n",
      " 0   sku                     int64         \n",
      " 1   date                    datetime64[ns]\n",
      " 2   sold_quantity           int64         \n",
      " 3   current_price           float64       \n",
      " 4   currency                category      \n",
      " 5   listing_type            category      \n",
      " 6   shipping_logistic_type  category      \n",
      " 7   shipping_payment        category      \n",
      " 8   minutes_active          float64       \n",
      "dtypes: category(4), datetime64[ns](1), float64(2), int64(2)\n",
      "memory usage: 1.5 GB\n"
     ]
    }
   ],
   "source": [
    "df = df.astype({\n",
    "    'date': 'datetime64[ns]',\n",
    "    'currency': 'category',\n",
    "    'listing_type': 'category',\n",
    "    'shipping_logistic_type': 'category',\n",
    "    'shipping_payment': 'category'\n",
    "}, copy=False)\n",
    "df.info()"
   ]
  },
  {
   "cell_type": "code",
   "execution_count": 6,
   "metadata": {},
   "outputs": [
    {
     "data": {
      "text/plain": [
       "Index                           128\n",
       "sku                       301282232\n",
       "date                      301282232\n",
       "sold_quantity             301282232\n",
       "current_price             301282232\n",
       "currency                   37660691\n",
       "listing_type               37660515\n",
       "shipping_logistic_type     37660590\n",
       "shipping_payment           37660527\n",
       "minutes_active            301282232\n",
       "dtype: int64"
      ]
     },
     "execution_count": 6,
     "metadata": {},
     "output_type": "execute_result"
    }
   ],
   "source": [
    "mem_after = df.memory_usage(deep=True).sum()\n",
    "df.memory_usage(deep=True)"
   ]
  },
  {
   "cell_type": "code",
   "execution_count": 7,
   "metadata": {},
   "outputs": [
    {
     "name": "stdout",
     "output_type": "stream",
     "text": [
      "redução para 12.2% do tamanho\n"
     ]
    }
   ],
   "source": [
    "print(f'redução para {(mem_after / mem_before)*100:0.1f}% do tamanho')"
   ]
  },
  {
   "cell_type": "markdown",
   "metadata": {},
   "source": [
    "### Lendo arquivo de itens\n",
    "Agora que reduzimos o tamanho do DataFrame para cerca de 12% do seu tamanho original, vamos ler o segundo arquivo e observar se há algum ajuste necessário"
   ]
  },
  {
   "cell_type": "code",
   "execution_count": 8,
   "metadata": {},
   "outputs": [
    {
     "data": {
      "text/html": [
       "<div>\n",
       "<style scoped>\n",
       "    .dataframe tbody tr th:only-of-type {\n",
       "        vertical-align: middle;\n",
       "    }\n",
       "\n",
       "    .dataframe tbody tr th {\n",
       "        vertical-align: top;\n",
       "    }\n",
       "\n",
       "    .dataframe thead th {\n",
       "        text-align: right;\n",
       "    }\n",
       "</style>\n",
       "<table border=\"1\" class=\"dataframe\">\n",
       "  <thead>\n",
       "    <tr style=\"text-align: right;\">\n",
       "      <th></th>\n",
       "      <th>item_domain_id</th>\n",
       "      <th>item_id</th>\n",
       "      <th>item_title</th>\n",
       "      <th>site_id</th>\n",
       "      <th>sku</th>\n",
       "      <th>product_id</th>\n",
       "      <th>product_family_id</th>\n",
       "    </tr>\n",
       "  </thead>\n",
       "  <tbody>\n",
       "    <tr>\n",
       "      <th>0</th>\n",
       "      <td>MLB-SNEAKERS</td>\n",
       "      <td>492155</td>\n",
       "      <td>Tênis Masculino Olympikus Cyber Barato Promoçao</td>\n",
       "      <td>MLB</td>\n",
       "      <td>0</td>\n",
       "      <td>None</td>\n",
       "      <td>MLB15832732</td>\n",
       "    </tr>\n",
       "    <tr>\n",
       "      <th>1</th>\n",
       "      <td>MLB-SURFBOARD_RACKS</td>\n",
       "      <td>300279</td>\n",
       "      <td>Suporte Rack Prancha Parede C/ Regulagem Horiz...</td>\n",
       "      <td>MLB</td>\n",
       "      <td>1</td>\n",
       "      <td>None</td>\n",
       "      <td>None</td>\n",
       "    </tr>\n",
       "    <tr>\n",
       "      <th>2</th>\n",
       "      <td>MLM-NECKLACES</td>\n",
       "      <td>69847</td>\n",
       "      <td>5 Collares Plateados Dama Gargantilla Choker -...</td>\n",
       "      <td>MLM</td>\n",
       "      <td>2</td>\n",
       "      <td>None</td>\n",
       "      <td>None</td>\n",
       "    </tr>\n",
       "    <tr>\n",
       "      <th>3</th>\n",
       "      <td>MLM-RINGS</td>\n",
       "      <td>298603</td>\n",
       "      <td>Lindo Anillo De Bella Crepusculo Twilight Prom...</td>\n",
       "      <td>MLM</td>\n",
       "      <td>3</td>\n",
       "      <td>None</td>\n",
       "      <td>None</td>\n",
       "    </tr>\n",
       "    <tr>\n",
       "      <th>4</th>\n",
       "      <td>MLB-WEBCAMS</td>\n",
       "      <td>345949</td>\n",
       "      <td>Webcam Com Microfone Hd 720p Knup Youtube Pc V...</td>\n",
       "      <td>MLB</td>\n",
       "      <td>4</td>\n",
       "      <td>None</td>\n",
       "      <td>None</td>\n",
       "    </tr>\n",
       "  </tbody>\n",
       "</table>\n",
       "</div>"
      ],
      "text/plain": [
       "        item_domain_id  item_id  \\\n",
       "0         MLB-SNEAKERS   492155   \n",
       "1  MLB-SURFBOARD_RACKS   300279   \n",
       "2        MLM-NECKLACES    69847   \n",
       "3            MLM-RINGS   298603   \n",
       "4          MLB-WEBCAMS   345949   \n",
       "\n",
       "                                          item_title site_id  sku product_id  \\\n",
       "0    Tênis Masculino Olympikus Cyber Barato Promoçao     MLB    0       None   \n",
       "1  Suporte Rack Prancha Parede C/ Regulagem Horiz...     MLB    1       None   \n",
       "2  5 Collares Plateados Dama Gargantilla Choker -...     MLM    2       None   \n",
       "3  Lindo Anillo De Bella Crepusculo Twilight Prom...     MLM    3       None   \n",
       "4  Webcam Com Microfone Hd 720p Knup Youtube Pc V...     MLB    4       None   \n",
       "\n",
       "  product_family_id  \n",
       "0       MLB15832732  \n",
       "1              None  \n",
       "2              None  \n",
       "3              None  \n",
       "4              None  "
      ]
     },
     "execution_count": 8,
     "metadata": {},
     "output_type": "execute_result"
    }
   ],
   "source": [
    "df_items = pd.read_json('items_static_metadata_full.jl', orient='records', lines=True)\n",
    "df_items.head()"
   ]
  },
  {
   "cell_type": "code",
   "execution_count": 9,
   "metadata": {},
   "outputs": [
    {
     "name": "stdout",
     "output_type": "stream",
     "text": [
      "<class 'pandas.core.frame.DataFrame'>\n",
      "RangeIndex: 660916 entries, 0 to 660915\n",
      "Data columns (total 7 columns):\n",
      " #   Column             Non-Null Count   Dtype \n",
      "---  ------             --------------   ----- \n",
      " 0   item_domain_id     660913 non-null  object\n",
      " 1   item_id            660916 non-null  int64 \n",
      " 2   item_title         660916 non-null  object\n",
      " 3   site_id            660916 non-null  object\n",
      " 4   sku                660916 non-null  int64 \n",
      " 5   product_id         29668 non-null   object\n",
      " 6   product_family_id  83184 non-null   object\n",
      "dtypes: int64(2), object(5)\n",
      "memory usage: 35.3+ MB\n"
     ]
    }
   ],
   "source": [
    "df_items.info()"
   ]
  },
  {
   "cell_type": "markdown",
   "metadata": {},
   "source": [
    "Temos alguns valores missing neste arquivo. A coluna `item_domain_id` tem apenas 3 valores faltantes, possivelmente conseguimos preenchê-los com base nos outros itens."
   ]
  },
  {
   "cell_type": "code",
   "execution_count": 10,
   "metadata": {},
   "outputs": [
    {
     "data": {
      "text/html": [
       "<div>\n",
       "<style scoped>\n",
       "    .dataframe tbody tr th:only-of-type {\n",
       "        vertical-align: middle;\n",
       "    }\n",
       "\n",
       "    .dataframe tbody tr th {\n",
       "        vertical-align: top;\n",
       "    }\n",
       "\n",
       "    .dataframe thead th {\n",
       "        text-align: right;\n",
       "    }\n",
       "</style>\n",
       "<table border=\"1\" class=\"dataframe\">\n",
       "  <thead>\n",
       "    <tr style=\"text-align: right;\">\n",
       "      <th></th>\n",
       "      <th>item_domain_id</th>\n",
       "      <th>item_id</th>\n",
       "      <th>item_title</th>\n",
       "      <th>site_id</th>\n",
       "      <th>sku</th>\n",
       "      <th>product_id</th>\n",
       "      <th>product_family_id</th>\n",
       "    </tr>\n",
       "  </thead>\n",
       "  <tbody>\n",
       "    <tr>\n",
       "      <th>454273</th>\n",
       "      <td>None</td>\n",
       "      <td>245417</td>\n",
       "      <td>Fone De Ouvido Multilaser Tws Ph326 Airbud Sem...</td>\n",
       "      <td>MLB</td>\n",
       "      <td>454273</td>\n",
       "      <td>None</td>\n",
       "      <td>MLB16117735</td>\n",
       "    </tr>\n",
       "    <tr>\n",
       "      <th>459892</th>\n",
       "      <td>None</td>\n",
       "      <td>283198</td>\n",
       "      <td>Headset Gamer Multilaser P2 Ph123 Preto E Verde</td>\n",
       "      <td>MLB</td>\n",
       "      <td>459892</td>\n",
       "      <td>None</td>\n",
       "      <td>MLB16158968</td>\n",
       "    </tr>\n",
       "    <tr>\n",
       "      <th>553503</th>\n",
       "      <td>None</td>\n",
       "      <td>114028</td>\n",
       "      <td>Prancha De Cabelo Taiff Elegance Frizz Cerâmic...</td>\n",
       "      <td>MLB</td>\n",
       "      <td>553503</td>\n",
       "      <td>None</td>\n",
       "      <td>MLB17821818</td>\n",
       "    </tr>\n",
       "  </tbody>\n",
       "</table>\n",
       "</div>"
      ],
      "text/plain": [
       "       item_domain_id  item_id  \\\n",
       "454273           None   245417   \n",
       "459892           None   283198   \n",
       "553503           None   114028   \n",
       "\n",
       "                                               item_title site_id     sku  \\\n",
       "454273  Fone De Ouvido Multilaser Tws Ph326 Airbud Sem...     MLB  454273   \n",
       "459892    Headset Gamer Multilaser P2 Ph123 Preto E Verde     MLB  459892   \n",
       "553503  Prancha De Cabelo Taiff Elegance Frizz Cerâmic...     MLB  553503   \n",
       "\n",
       "       product_id product_family_id  \n",
       "454273       None       MLB16117735  \n",
       "459892       None       MLB16158968  \n",
       "553503       None       MLB17821818  "
      ]
     },
     "execution_count": 10,
     "metadata": {},
     "output_type": "execute_result"
    }
   ],
   "source": [
    "df_items[df_items['item_domain_id'].isna()]"
   ]
  },
  {
   "cell_type": "code",
   "execution_count": 11,
   "metadata": {},
   "outputs": [
    {
     "data": {
      "text/html": [
       "<div>\n",
       "<style scoped>\n",
       "    .dataframe tbody tr th:only-of-type {\n",
       "        vertical-align: middle;\n",
       "    }\n",
       "\n",
       "    .dataframe tbody tr th {\n",
       "        vertical-align: top;\n",
       "    }\n",
       "\n",
       "    .dataframe thead th {\n",
       "        text-align: right;\n",
       "    }\n",
       "</style>\n",
       "<table border=\"1\" class=\"dataframe\">\n",
       "  <thead>\n",
       "    <tr style=\"text-align: right;\">\n",
       "      <th></th>\n",
       "      <th>item_domain_id</th>\n",
       "      <th>item_id</th>\n",
       "      <th>item_title</th>\n",
       "      <th>site_id</th>\n",
       "      <th>sku</th>\n",
       "      <th>product_id</th>\n",
       "      <th>product_family_id</th>\n",
       "    </tr>\n",
       "  </thead>\n",
       "  <tbody>\n",
       "    <tr>\n",
       "      <th>409433</th>\n",
       "      <td>MLB-HAIR_STRAIGHTENERS</td>\n",
       "      <td>465687</td>\n",
       "      <td>Prancha Chapa Taiff Frizz 230ºc Cria Volume Pa...</td>\n",
       "      <td>MLB</td>\n",
       "      <td>409433</td>\n",
       "      <td>None</td>\n",
       "      <td>MLB17821818</td>\n",
       "    </tr>\n",
       "    <tr>\n",
       "      <th>454273</th>\n",
       "      <td>None</td>\n",
       "      <td>245417</td>\n",
       "      <td>Fone De Ouvido Multilaser Tws Ph326 Airbud Sem...</td>\n",
       "      <td>MLB</td>\n",
       "      <td>454273</td>\n",
       "      <td>None</td>\n",
       "      <td>MLB16117735</td>\n",
       "    </tr>\n",
       "    <tr>\n",
       "      <th>459892</th>\n",
       "      <td>None</td>\n",
       "      <td>283198</td>\n",
       "      <td>Headset Gamer Multilaser P2 Ph123 Preto E Verde</td>\n",
       "      <td>MLB</td>\n",
       "      <td>459892</td>\n",
       "      <td>None</td>\n",
       "      <td>MLB16158968</td>\n",
       "    </tr>\n",
       "    <tr>\n",
       "      <th>553503</th>\n",
       "      <td>None</td>\n",
       "      <td>114028</td>\n",
       "      <td>Prancha De Cabelo Taiff Elegance Frizz Cerâmic...</td>\n",
       "      <td>MLB</td>\n",
       "      <td>553503</td>\n",
       "      <td>None</td>\n",
       "      <td>MLB17821818</td>\n",
       "    </tr>\n",
       "    <tr>\n",
       "      <th>592619</th>\n",
       "      <td>MLB-HEADPHONES</td>\n",
       "      <td>374028</td>\n",
       "      <td>Fone De Ouvido Multilaser Tws Airbuds Ph326 Br...</td>\n",
       "      <td>MLB</td>\n",
       "      <td>592619</td>\n",
       "      <td>None</td>\n",
       "      <td>MLB16117735</td>\n",
       "    </tr>\n",
       "  </tbody>\n",
       "</table>\n",
       "</div>"
      ],
      "text/plain": [
       "                item_domain_id  item_id  \\\n",
       "409433  MLB-HAIR_STRAIGHTENERS   465687   \n",
       "454273                    None   245417   \n",
       "459892                    None   283198   \n",
       "553503                    None   114028   \n",
       "592619          MLB-HEADPHONES   374028   \n",
       "\n",
       "                                               item_title site_id     sku  \\\n",
       "409433  Prancha Chapa Taiff Frizz 230ºc Cria Volume Pa...     MLB  409433   \n",
       "454273  Fone De Ouvido Multilaser Tws Ph326 Airbud Sem...     MLB  454273   \n",
       "459892    Headset Gamer Multilaser P2 Ph123 Preto E Verde     MLB  459892   \n",
       "553503  Prancha De Cabelo Taiff Elegance Frizz Cerâmic...     MLB  553503   \n",
       "592619  Fone De Ouvido Multilaser Tws Airbuds Ph326 Br...     MLB  592619   \n",
       "\n",
       "       product_id product_family_id  \n",
       "409433       None       MLB17821818  \n",
       "454273       None       MLB16117735  \n",
       "459892       None       MLB16158968  \n",
       "553503       None       MLB17821818  \n",
       "592619       None       MLB16117735  "
      ]
     },
     "execution_count": 11,
     "metadata": {},
     "output_type": "execute_result"
    }
   ],
   "source": [
    "df_items[(df_items['product_family_id'] == 'MLB16117735') |\n",
    "        (df_items['product_family_id'] == 'MLB16158968') |\n",
    "        (df_items['product_family_id'] == 'MLB17821818')]"
   ]
  },
  {
   "cell_type": "markdown",
   "metadata": {},
   "source": [
    "O item de id `114028` está na mesma família de produtos do item `465687`, como o item_domain está um nível acima do product_family, podemos dizer que ambos são do domain `MLB-HAIR_STRAIGHTENERS`'. O mesmo acontece com o item `245417` e `374028`.\n",
    "\n",
    "Já o item `283198`, não tem nenhum outro na mesma product_family, porém pelo nome do produto e seu site_id poderíamos inferir que ele pertence ao domain `MLB-HEADPHONES`."
   ]
  },
  {
   "cell_type": "code",
   "execution_count": 12,
   "metadata": {},
   "outputs": [
    {
     "name": "stdout",
     "output_type": "stream",
     "text": [
      "<class 'pandas.core.frame.DataFrame'>\n",
      "RangeIndex: 660916 entries, 0 to 660915\n",
      "Data columns (total 7 columns):\n",
      " #   Column             Non-Null Count   Dtype \n",
      "---  ------             --------------   ----- \n",
      " 0   item_domain_id     660916 non-null  object\n",
      " 1   item_id            660916 non-null  int64 \n",
      " 2   item_title         660916 non-null  object\n",
      " 3   site_id            660916 non-null  object\n",
      " 4   sku                660916 non-null  int64 \n",
      " 5   product_id         29668 non-null   object\n",
      " 6   product_family_id  83184 non-null   object\n",
      "dtypes: int64(2), object(5)\n",
      "memory usage: 35.3+ MB\n"
     ]
    }
   ],
   "source": [
    "df_items.loc[454273, 'item_domain_id'] = 'MLB-HEADPHONES'\n",
    "df_items.loc[459892, 'item_domain_id'] = 'MLB-HAIR_STRAIGHTENERS'\n",
    "df_items.loc[553503, 'item_domain_id'] = 'MLB-HEADPHONES'\n",
    "df_items.info()"
   ]
  },
  {
   "cell_type": "markdown",
   "metadata": {},
   "source": [
    "As outras colunas com missings apresentam muito mais valores faltantes, sendo inviável preenchê-los da mesma forma que foi feita acima, iremos lidar com eles na fase de limpeza dos dados.\n",
    "\n",
    "## Unindo os DataFrames\n",
    "Com ambos os DataFrames carregados, faremos um join entre eles para tratar todos os dados em um único DataFrame. Antes de realizar o join, vamos repetir o tratamento para redução do uso de memória neste DataFrame."
   ]
  },
  {
   "cell_type": "code",
   "execution_count": 13,
   "metadata": {},
   "outputs": [
    {
     "data": {
      "text/plain": [
       "Index                     128\n",
       "item_domain_id       51008999\n",
       "item_id               5287328\n",
       "item_title           80304728\n",
       "site_id              39654960\n",
       "sku                   5287328\n",
       "product_id           17161676\n",
       "product_family_id    19504067\n",
       "dtype: int64"
      ]
     },
     "execution_count": 13,
     "metadata": {},
     "output_type": "execute_result"
    }
   ],
   "source": [
    "mem_before = df_items.memory_usage(deep=True).sum()\n",
    "df_items.memory_usage(deep=True)"
   ]
  },
  {
   "cell_type": "code",
   "execution_count": 14,
   "metadata": {},
   "outputs": [
    {
     "name": "stdout",
     "output_type": "stream",
     "text": [
      "<class 'pandas.core.frame.DataFrame'>\n",
      "RangeIndex: 660916 entries, 0 to 660915\n",
      "Data columns (total 7 columns):\n",
      " #   Column             Non-Null Count   Dtype   \n",
      "---  ------             --------------   -----   \n",
      " 0   item_domain_id     660916 non-null  category\n",
      " 1   item_id            660916 non-null  int64   \n",
      " 2   item_title         660916 non-null  category\n",
      " 3   site_id            660916 non-null  category\n",
      " 4   sku                660916 non-null  int64   \n",
      " 5   product_id         29668 non-null   category\n",
      " 6   product_family_id  83184 non-null   category\n",
      "dtypes: category(5), int64(2)\n",
      "memory usage: 39.0 MB\n"
     ]
    }
   ],
   "source": [
    "df_items = df_items.astype({\n",
    "    'item_domain_id': 'category',\n",
    "    'item_title': 'category', # should this really be a category dtype? it sort of makes sense after the join\n",
    "    'site_id': 'category',\n",
    "    'product_id': 'category',\n",
    "    'product_family_id': 'category'\n",
    "}, copy=False)\n",
    "df_items.info()"
   ]
  },
  {
   "cell_type": "code",
   "execution_count": 15,
   "metadata": {},
   "outputs": [
    {
     "data": {
      "text/plain": [
       "Index                     128\n",
       "item_domain_id        2248422\n",
       "item_id               5287328\n",
       "item_title           89677005\n",
       "site_id                661204\n",
       "sku                   5287328\n",
       "product_id            2926141\n",
       "product_family_id     4385301\n",
       "dtype: int64"
      ]
     },
     "execution_count": 15,
     "metadata": {},
     "output_type": "execute_result"
    }
   ],
   "source": [
    "mem_after = df_items.memory_usage(deep=True).sum()\n",
    "df_items.memory_usage(deep=True)"
   ]
  },
  {
   "cell_type": "code",
   "execution_count": 16,
   "metadata": {},
   "outputs": [
    {
     "name": "stdout",
     "output_type": "stream",
     "text": [
      "redução para 50.6% do tamanho\n"
     ]
    }
   ],
   "source": [
    "print(f'redução para {(mem_after / mem_before)*100:0.1f}% do tamanho')"
   ]
  },
  {
   "cell_type": "markdown",
   "metadata": {},
   "source": [
    "Após reduzir o tamanho do DataFrame de itens pela metade, podemos finalmente unir ambos os DataFrames em um só. Se tivessemos unido-os sem antes realizar este tratamento, possivelmente encontraríamos problemas com falta de memória disponível"
   ]
  },
  {
   "cell_type": "code",
   "execution_count": 17,
   "metadata": {},
   "outputs": [
    {
     "name": "stdout",
     "output_type": "stream",
     "text": [
      "<class 'pandas.core.frame.DataFrame'>\n",
      "Int64Index: 37660279 entries, 0 to 37660278\n",
      "Data columns (total 15 columns):\n",
      " #   Column                  Dtype         \n",
      "---  ------                  -----         \n",
      " 0   sku                     int64         \n",
      " 1   date                    datetime64[ns]\n",
      " 2   sold_quantity           int64         \n",
      " 3   current_price           float64       \n",
      " 4   currency                category      \n",
      " 5   listing_type            category      \n",
      " 6   shipping_logistic_type  category      \n",
      " 7   shipping_payment        category      \n",
      " 8   minutes_active          float64       \n",
      " 9   item_domain_id          category      \n",
      " 10  item_id                 int64         \n",
      " 11  item_title              category      \n",
      " 12  site_id                 category      \n",
      " 13  product_id              category      \n",
      " 14  product_family_id       category      \n",
      "dtypes: category(9), datetime64[ns](1), float64(2), int64(3)\n",
      "memory usage: 2.5 GB\n"
     ]
    }
   ],
   "source": [
    "df = df.merge(df_items, on='sku', copy=False)\n",
    "df.info()"
   ]
  },
  {
   "cell_type": "markdown",
   "metadata": {},
   "source": [
    "## Análise Exploratória\n",
    "Tendo consolidado os dados em um DataFrame único, vamos começar a explorar a base para entender melhor a sua estrutura, e começar a produzir hipóteses, mantendo em mente o objetivo de prever quantos dias dura um certo estoque de um certo SKU."
   ]
  },
  {
   "cell_type": "markdown",
   "metadata": {},
   "source": [
    "### Univariada\n",
    "Começaremos olhando cada coluna de forma independente (ou com relação ao tempo apenas), uma por vez a fim de compreender melhor seu comportamento individualmente."
   ]
  },
  {
   "cell_type": "markdown",
   "metadata": {},
   "source": [
    "#### date\n",
    "Existe uma distribuição uniforme de registros para as datas?\n",
    "\n",
    "Nem todas as datas tem a mesma quantidade de registros"
   ]
  },
  {
   "cell_type": "code",
   "execution_count": 21,
   "metadata": {},
   "outputs": [
    {
     "data": {
      "text/plain": [
       "count        59.000000\n",
       "mean     638309.813559\n",
       "std       16592.342302\n",
       "min      604230.000000\n",
       "25%      624801.500000\n",
       "50%      640562.000000\n",
       "75%      652920.500000\n",
       "max      660916.000000\n",
       "Name: date, dtype: float64"
      ]
     },
     "execution_count": 21,
     "metadata": {},
     "output_type": "execute_result"
    }
   ],
   "source": [
    "df['date'].value_counts().describe()"
   ]
  },
  {
   "cell_type": "markdown",
   "metadata": {},
   "source": [
    "Existe uma diferença de quantidade de registros para dia do mês?\n",
    "\n",
    "Apenas no final do mês, mas vale lembrar que os meses contidos no dataset são Fevereiro e Março, a queda de registros nos dias 29, 30 e 31 se dá por conta desses dias do mês estarem contidos apenas para o mês de Março.\n",
    "\n",
    "Parece ter uma tendência de crescimento na quantidade de registros em direção aos dias ao final do mês, mas apenas pelo gráfico não é possível ter certeza disso."
   ]
  },
  {
   "cell_type": "code",
   "execution_count": 23,
   "metadata": {},
   "outputs": [
    {
     "data": {
      "text/plain": [
       "<AxesSubplot:xlabel='date'>"
      ]
     },
     "execution_count": 23,
     "metadata": {},
     "output_type": "execute_result"
    },
    {
     "data": {
      "image/png": "[encoded data removed]",
      "text/plain": [
       "<Figure size 432x288 with 1 Axes>"
      ]
     },
     "metadata": {
      "needs_background": "light"
     },
     "output_type": "display_data"
    }
   ],
   "source": [
    "df['date'].groupby(df['date'].dt.day).count().plot(kind='bar')"
   ]
  },
  {
   "cell_type": "markdown",
   "metadata": {},
   "source": [
    "Quantos registros temos por dia da semana?\n",
    "\n",
    "Temos mais registros para Segunda, Terça e Quarta, provavelmente por conta do mês de Março de 2021 ser terminado em uma Quarta."
   ]
  },
  {
   "cell_type": "code",
   "execution_count": 38,
   "metadata": {},
   "outputs": [
    {
     "data": {
      "text/plain": [
       "<AxesSubplot:xlabel='date'>"
      ]
     },
     "execution_count": 38,
     "metadata": {},
     "output_type": "execute_result"
    },
    {
     "data": {
      "image/png": "[encoded data removed]",
      "text/plain": [
       "<Figure size 432x288 with 1 Axes>"
      ]
     },
     "metadata": {
      "needs_background": "light"
     },
     "output_type": "display_data"
    }
   ],
   "source": [
    "df['date'].groupby(df['date'].dt.weekday).count().plot(kind='bar')"
   ]
  },
  {
   "cell_type": "markdown",
   "metadata": {},
   "source": [
    "#### sold_quantity\n",
    "Para um SKU qualquer, quantas unidades foram vendidas ao todo?"
   ]
  },
  {
   "cell_type": "code",
   "execution_count": 24,
   "metadata": {},
   "outputs": [
    {
     "data": {
      "text/plain": [
       "15"
      ]
     },
     "execution_count": 24,
     "metadata": {},
     "output_type": "execute_result"
    }
   ],
   "source": [
    "sku_filtered = df[df['sku'] == 464801]\n",
    "sku_filtered['sold_quantity'].sum()"
   ]
  },
  {
   "cell_type": "markdown",
   "metadata": {},
   "source": [
    "E como ficam as vendas para cada um dos 60 dias?"
   ]
  },
  {
   "cell_type": "code",
   "execution_count": 29,
   "metadata": {},
   "outputs": [
    {
     "data": {
      "text/plain": [
       "<AxesSubplot:>"
      ]
     },
     "execution_count": 29,
     "metadata": {},
     "output_type": "execute_result"
    },
    {
     "data": {
      "image/png": "[encoded data removed]",
      "text/plain": [
       "<Figure size 432x288 with 1 Axes>"
      ]
     },
     "metadata": {
      "needs_background": "light"
     },
     "output_type": "display_data"
    }
   ],
   "source": [
    "sku_filtered['sold_quantity'].plot(kind='bar')"
   ]
  },
  {
   "cell_type": "code",
   "execution_count": 30,
   "metadata": {},
   "outputs": [
    {
     "data": {
      "text/plain": [
       "<AxesSubplot:>"
      ]
     },
     "execution_count": 30,
     "metadata": {},
     "output_type": "execute_result"
    },
    {
     "data": {
      "image/png": "[encoded data removed]",
      "text/plain": [
       "<Figure size 432x288 with 1 Axes>"
      ]
     },
     "metadata": {
      "needs_background": "light"
     },
     "output_type": "display_data"
    }
   ],
   "source": [
    "sku_filtered['sold_quantity'].cumsum().plot(kind='line')"
   ]
  },
  {
   "cell_type": "markdown",
   "metadata": {},
   "source": [
    "Desconsiderando o SKU, quantas vendas são realizadas por dia?\n",
    "\n",
    "Parece ter um efeito sazonal nas vendas."
   ]
  },
  {
   "cell_type": "code",
   "execution_count": 36,
   "metadata": {},
   "outputs": [
    {
     "data": {
      "text/plain": [
       "<AxesSubplot:xlabel='date,date'>"
      ]
     },
     "execution_count": 36,
     "metadata": {},
     "output_type": "execute_result"
    },
    {
     "data": {
      "image/png": "[encoded data removed]",
      "text/plain": [
       "<Figure size 432x288 with 1 Axes>"
      ]
     },
     "metadata": {
      "needs_background": "light"
     },
     "output_type": "display_data"
    }
   ],
   "source": [
    "df.groupby([df['date'].dt.day, df['date'].dt.month]).mean()['sold_quantity'].plot(kind='bar')"
   ]
  },
  {
   "cell_type": "markdown",
   "metadata": {},
   "source": [
    "Antes de investigar este efeito sazonal vamos remover a última semana de Março de 2021 pois ela se contra incompleta e pode enviesar as análises trazendo mais amostras para Segunda-Quarta."
   ]
  },
  {
   "cell_type": "code",
   "execution_count": 39,
   "metadata": {},
   "outputs": [],
   "source": [
    "without_last_week_of_march = df['date'] < '2021-03-29'"
   ]
  },
  {
   "cell_type": "markdown",
   "metadata": {},
   "source": [
    "Acontecem mais vendas no início do mês do que ao final do mês?\n",
    "\n",
    "Existe uma leve tendência decrescente ao longo do mês, porém não parece muito significativa."
   ]
  },
  {
   "cell_type": "code",
   "execution_count": 43,
   "metadata": {},
   "outputs": [
    {
     "data": {
      "text/plain": [
       "<AxesSubplot:xlabel='date'>"
      ]
     },
     "execution_count": 43,
     "metadata": {},
     "output_type": "execute_result"
    },
    {
     "data": {
      "image/png": "[encoded data removed]",
      "text/plain": [
       "<Figure size 432x288 with 1 Axes>"
      ]
     },
     "metadata": {
      "needs_background": "light"
     },
     "output_type": "display_data"
    }
   ],
   "source": [
    "df[without_last_week_of_march].groupby(df[without_last_week_of_march]['date'].dt.day).mean()['sold_quantity'].plot(kind='bar')"
   ]
  },
  {
   "cell_type": "markdown",
   "metadata": {},
   "source": [
    "Acontecem mais vendas nas 2 primeiras semanas do mês?\n",
    "\n",
    "Mesmo efeito da última observação, existe uma variação aparente que pode indicar maior quantidade de vendas nas duas primeiras semanas do mês, porém esta variação está pequena e não vamos concluir nada a partir dela."
   ]
  },
  {
   "cell_type": "code",
   "execution_count": 40,
   "metadata": {},
   "outputs": [
    {
     "data": {
      "text/plain": [
       "<AxesSubplot:xlabel='week'>"
      ]
     },
     "execution_count": 40,
     "metadata": {},
     "output_type": "execute_result"
    },
    {
     "data": {
      "image/png": "[encoded data removed]",
      "text/plain": [
       "<Figure size 432x288 with 1 Axes>"
      ]
     },
     "metadata": {
      "needs_background": "light"
     },
     "output_type": "display_data"
    }
   ],
   "source": [
    "df[without_last_week_of_march].groupby(df[without_last_week_of_march]['date'].dt.isocalendar().week).mean()['sold_quantity'].plot(kind='bar')"
   ]
  },
  {
   "cell_type": "markdown",
   "metadata": {},
   "source": [
    "Acontecem mais vendas nos finais de semana?\n",
    "\n",
    "Como vemos nos gráficos anteriores, existe um efeito sazonal no nível dos dias de semana, este efeito indica que ocorrem mais vendas ao início da semana quando comparado com o final de semana. Sábado e Domingo são dias com notoriamente menos vendas, em média."
   ]
  },
  {
   "cell_type": "code",
   "execution_count": 41,
   "metadata": {},
   "outputs": [
    {
     "data": {
      "text/plain": [
       "<AxesSubplot:xlabel='date'>"
      ]
     },
     "execution_count": 41,
     "metadata": {},
     "output_type": "execute_result"
    },
    {
     "data": {
      "image/png": "[encoded data removed]",
      "text/plain": [
       "<Figure size 432x288 with 1 Axes>"
      ]
     },
     "metadata": {
      "needs_background": "light"
     },
     "output_type": "display_data"
    }
   ],
   "source": [
    "df[without_last_week_of_march].groupby(df[without_last_week_of_march]['date'].dt.weekday).mean()['sold_quantity'].plot(kind='bar')"
   ]
  },
  {
   "cell_type": "code",
   "execution_count": null,
   "metadata": {},
   "outputs": [],
   "source": []
  }
 ],
 "metadata": {
  "kernelspec": {
   "display_name": "Python 3 (ipykernel)",
   "language": "python",
   "name": "python3"
  },
  "language_info": {
   "codemirror_mode": {
    "name": "ipython",
    "version": 3
   },
   "file_extension": ".py",
   "mimetype": "text/x-python",
   "name": "python",
   "nbconvert_exporter": "python",
   "pygments_lexer": "ipython3",
   "version": "3.9.1"
  }
 },
 "nbformat": 4,
 "nbformat_minor": 4
}
