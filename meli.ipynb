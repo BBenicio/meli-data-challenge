{
    "cells": [
        {
            "cell_type": "markdown",
            "source": [
                "# MeLi Data Challenge 2021\r\n",
                "O objetivo deste desafio é prever quantos dias (de 1 a 30) uma certa quantidade de uma unidade de estoque (sku) irá levar para se esgotar. Para isso temos os dados de treinamento (train_data.parquet) e os dados dos itens (items_static_metadata_full.jl).\r\n",
                "Neste notebook iremos realizar primeiramente uma análise exploratória sobre os dados fornecidos e então, utilizaremos um modelo de aprendizado de máquina para classificação em 30 classes de cada par (sku, dias) do conjunto de teste (test_data.csv)."
            ],
            "metadata": {}
        },
        {
            "cell_type": "markdown",
            "source": [
                "## Leitura dos dados\r\n",
                "Os dados de treino estão em um arquivo do tipo `parquet` e tendem a utilizar bastante memória durante a leitura, além de ser um conjundo grande. Portanto, após a leitura utilizaremos algumas técnicas para reduzir a quantidade de memória utilizada pelos `DataFrames`.\r\n",
                "Temos disponível também um arquivo com as informações dos itens. Após a leitura deste iremos unir as informações dos dois arquivos em um único `DataFrame` para tratamento."
            ],
            "metadata": {}
        },
        {
            "cell_type": "code",
            "execution_count": 1,
            "source": [
                "import pandas as pd\r\n",
                "from unidecode import unidecode"
            ],
            "outputs": [],
            "metadata": {}
        },
        {
            "cell_type": "code",
            "execution_count": 2,
            "source": [
                "train_data = pd.read_parquet('data/train_data.parquet')\r\n",
                "train_data.head()"
            ],
            "outputs": [
                {
                    "output_type": "execute_result",
                    "data": {
                        "text/html": [
                            "<div>\n",
                            "<style scoped>\n",
                            "    .dataframe tbody tr th:only-of-type {\n",
                            "        vertical-align: middle;\n",
                            "    }\n",
                            "\n",
                            "    .dataframe tbody tr th {\n",
                            "        vertical-align: top;\n",
                            "    }\n",
                            "\n",
                            "    .dataframe thead th {\n",
                            "        text-align: right;\n",
                            "    }\n",
                            "</style>\n",
                            "<table border=\"1\" class=\"dataframe\">\n",
                            "  <thead>\n",
                            "    <tr style=\"text-align: right;\">\n",
                            "      <th></th>\n",
                            "      <th>sku</th>\n",
                            "      <th>date</th>\n",
                            "      <th>sold_quantity</th>\n",
                            "      <th>current_price</th>\n",
                            "      <th>currency</th>\n",
                            "      <th>listing_type</th>\n",
                            "      <th>shipping_logistic_type</th>\n",
                            "      <th>shipping_payment</th>\n",
                            "      <th>minutes_active</th>\n",
                            "    </tr>\n",
                            "  </thead>\n",
                            "  <tbody>\n",
                            "    <tr>\n",
                            "      <th>0</th>\n",
                            "      <td>464801</td>\n",
                            "      <td>2021-02-01</td>\n",
                            "      <td>0</td>\n",
                            "      <td>156.78</td>\n",
                            "      <td>REA</td>\n",
                            "      <td>classic</td>\n",
                            "      <td>fulfillment</td>\n",
                            "      <td>free_shipping</td>\n",
                            "      <td>1440.0</td>\n",
                            "    </tr>\n",
                            "    <tr>\n",
                            "      <th>1</th>\n",
                            "      <td>464801</td>\n",
                            "      <td>2021-02-02</td>\n",
                            "      <td>0</td>\n",
                            "      <td>156.78</td>\n",
                            "      <td>REA</td>\n",
                            "      <td>classic</td>\n",
                            "      <td>fulfillment</td>\n",
                            "      <td>free_shipping</td>\n",
                            "      <td>1440.0</td>\n",
                            "    </tr>\n",
                            "    <tr>\n",
                            "      <th>2</th>\n",
                            "      <td>464801</td>\n",
                            "      <td>2021-02-03</td>\n",
                            "      <td>0</td>\n",
                            "      <td>156.78</td>\n",
                            "      <td>REA</td>\n",
                            "      <td>classic</td>\n",
                            "      <td>fulfillment</td>\n",
                            "      <td>free_shipping</td>\n",
                            "      <td>1440.0</td>\n",
                            "    </tr>\n",
                            "    <tr>\n",
                            "      <th>3</th>\n",
                            "      <td>464801</td>\n",
                            "      <td>2021-02-04</td>\n",
                            "      <td>0</td>\n",
                            "      <td>156.78</td>\n",
                            "      <td>REA</td>\n",
                            "      <td>classic</td>\n",
                            "      <td>fulfillment</td>\n",
                            "      <td>free_shipping</td>\n",
                            "      <td>1440.0</td>\n",
                            "    </tr>\n",
                            "    <tr>\n",
                            "      <th>4</th>\n",
                            "      <td>464801</td>\n",
                            "      <td>2021-02-05</td>\n",
                            "      <td>1</td>\n",
                            "      <td>156.78</td>\n",
                            "      <td>REA</td>\n",
                            "      <td>classic</td>\n",
                            "      <td>fulfillment</td>\n",
                            "      <td>free_shipping</td>\n",
                            "      <td>1440.0</td>\n",
                            "    </tr>\n",
                            "  </tbody>\n",
                            "</table>\n",
                            "</div>"
                        ],
                        "text/plain": [
                            "      sku        date  sold_quantity  current_price currency listing_type  \\\n",
                            "0  464801  2021-02-01              0         156.78      REA      classic   \n",
                            "1  464801  2021-02-02              0         156.78      REA      classic   \n",
                            "2  464801  2021-02-03              0         156.78      REA      classic   \n",
                            "3  464801  2021-02-04              0         156.78      REA      classic   \n",
                            "4  464801  2021-02-05              1         156.78      REA      classic   \n",
                            "\n",
                            "  shipping_logistic_type shipping_payment  minutes_active  \n",
                            "0            fulfillment    free_shipping          1440.0  \n",
                            "1            fulfillment    free_shipping          1440.0  \n",
                            "2            fulfillment    free_shipping          1440.0  \n",
                            "3            fulfillment    free_shipping          1440.0  \n",
                            "4            fulfillment    free_shipping          1440.0  "
                        ]
                    },
                    "metadata": {},
                    "execution_count": 2
                }
            ],
            "metadata": {}
        },
        {
            "cell_type": "markdown",
            "source": [
                "Após a leitura, normalmente observamos um elevado uso de RAM, vamos analisar este uso no DataFrame lido e otimizá-lo seguindo o [guia para datasets grandes](https://pandas.pydata.org/docs/user_guide/scale.html)."
            ],
            "metadata": {}
        },
        {
            "cell_type": "code",
            "execution_count": 3,
            "source": [
                "train_data.dtypes"
            ],
            "outputs": [
                {
                    "output_type": "execute_result",
                    "data": {
                        "text/plain": [
                            "sku                         int64\n",
                            "date                       object\n",
                            "sold_quantity               int64\n",
                            "current_price             float64\n",
                            "currency                   object\n",
                            "listing_type               object\n",
                            "shipping_logistic_type     object\n",
                            "shipping_payment           object\n",
                            "minutes_active            float64\n",
                            "dtype: object"
                        ]
                    },
                    "metadata": {},
                    "execution_count": 3
                }
            ],
            "metadata": {}
        },
        {
            "cell_type": "code",
            "execution_count": 4,
            "source": [
                "train_data.memory_usage(deep=True)"
            ],
            "outputs": [
                {
                    "output_type": "execute_result",
                    "data": {
                        "text/plain": [
                            "Index                            128\n",
                            "sku                        301282232\n",
                            "date                      2523238693\n",
                            "sold_quantity              301282232\n",
                            "current_price              301282232\n",
                            "currency                  2259616740\n",
                            "listing_type              2410257856\n",
                            "shipping_logistic_type    2557613835\n",
                            "shipping_payment          2636219530\n",
                            "minutes_active             301282232\n",
                            "dtype: int64"
                        ]
                    },
                    "metadata": {},
                    "execution_count": 4
                }
            ],
            "metadata": {}
        },
        {
            "cell_type": "code",
            "execution_count": 5,
            "source": [
                "mem_before = train_data.memory_usage(deep=True).sum()\r\n",
                "mem_before"
            ],
            "outputs": [
                {
                    "output_type": "execute_result",
                    "data": {
                        "text/plain": [
                            "13592075710"
                        ]
                    },
                    "metadata": {},
                    "execution_count": 5
                }
            ],
            "metadata": {}
        },
        {
            "cell_type": "code",
            "execution_count": 6,
            "source": [
                "train_data['date'] = pd.to_datetime(train_data['date'])\r\n",
                "train_data['currency'] = train_data['currency'].astype('category')\r\n",
                "train_data['listing_type'] = train_data['listing_type'].astype('category')\r\n",
                "train_data['shipping_logistic_type'] = train_data['shipping_logistic_type'].astype('category')\r\n",
                "train_data['shipping_payment'] = train_data['shipping_payment'].astype('category')"
            ],
            "outputs": [],
            "metadata": {}
        },
        {
            "cell_type": "code",
            "execution_count": 7,
            "source": [
                "train_data.dtypes"
            ],
            "outputs": [
                {
                    "output_type": "execute_result",
                    "data": {
                        "text/plain": [
                            "sku                                int64\n",
                            "date                      datetime64[ns]\n",
                            "sold_quantity                      int64\n",
                            "current_price                    float64\n",
                            "currency                        category\n",
                            "listing_type                    category\n",
                            "shipping_logistic_type          category\n",
                            "shipping_payment                category\n",
                            "minutes_active                   float64\n",
                            "dtype: object"
                        ]
                    },
                    "metadata": {},
                    "execution_count": 7
                }
            ],
            "metadata": {}
        },
        {
            "cell_type": "code",
            "execution_count": 8,
            "source": [
                "train_data.memory_usage(deep=True)"
            ],
            "outputs": [
                {
                    "output_type": "execute_result",
                    "data": {
                        "text/plain": [
                            "Index                           128\n",
                            "sku                       301282232\n",
                            "date                      301282232\n",
                            "sold_quantity             301282232\n",
                            "current_price             301282232\n",
                            "currency                   37660691\n",
                            "listing_type               37660515\n",
                            "shipping_logistic_type     37660590\n",
                            "shipping_payment           37660527\n",
                            "minutes_active            301282232\n",
                            "dtype: int64"
                        ]
                    },
                    "metadata": {},
                    "execution_count": 8
                }
            ],
            "metadata": {}
        },
        {
            "cell_type": "code",
            "execution_count": 9,
            "source": [
                "mem_after = train_data.memory_usage(deep=True).sum()\r\n",
                "mem_after / mem_before"
            ],
            "outputs": [
                {
                    "output_type": "execute_result",
                    "data": {
                        "text/plain": [
                            "0.12191321225358301"
                        ]
                    },
                    "metadata": {},
                    "execution_count": 9
                }
            ],
            "metadata": {}
        },
        {
            "cell_type": "markdown",
            "source": [
                "Após a redução para 12% do tamanho original, vamos ler o segundo arquivo de dados e aplicar algumas das mesmas transformações, para então juntá-los em um único `DataFrame` para melhor análise."
            ],
            "metadata": {}
        },
        {
            "cell_type": "code",
            "execution_count": 10,
            "source": [
                "items_data = pd.read_json('data/items_static_metadata_full.jl', lines=True)\r\n",
                "items_data"
            ],
            "outputs": [
                {
                    "output_type": "execute_result",
                    "data": {
                        "text/html": [
                            "<div>\n",
                            "<style scoped>\n",
                            "    .dataframe tbody tr th:only-of-type {\n",
                            "        vertical-align: middle;\n",
                            "    }\n",
                            "\n",
                            "    .dataframe tbody tr th {\n",
                            "        vertical-align: top;\n",
                            "    }\n",
                            "\n",
                            "    .dataframe thead th {\n",
                            "        text-align: right;\n",
                            "    }\n",
                            "</style>\n",
                            "<table border=\"1\" class=\"dataframe\">\n",
                            "  <thead>\n",
                            "    <tr style=\"text-align: right;\">\n",
                            "      <th></th>\n",
                            "      <th>item_domain_id</th>\n",
                            "      <th>item_id</th>\n",
                            "      <th>item_title</th>\n",
                            "      <th>site_id</th>\n",
                            "      <th>sku</th>\n",
                            "      <th>product_id</th>\n",
                            "      <th>product_family_id</th>\n",
                            "    </tr>\n",
                            "  </thead>\n",
                            "  <tbody>\n",
                            "    <tr>\n",
                            "      <th>0</th>\n",
                            "      <td>MLB-SNEAKERS</td>\n",
                            "      <td>492155</td>\n",
                            "      <td>Tênis Masculino Olympikus Cyber Barato Promoçao</td>\n",
                            "      <td>MLB</td>\n",
                            "      <td>0</td>\n",
                            "      <td>None</td>\n",
                            "      <td>MLB15832732</td>\n",
                            "    </tr>\n",
                            "    <tr>\n",
                            "      <th>1</th>\n",
                            "      <td>MLB-SURFBOARD_RACKS</td>\n",
                            "      <td>300279</td>\n",
                            "      <td>Suporte Rack Prancha Parede C/ Regulagem Horiz...</td>\n",
                            "      <td>MLB</td>\n",
                            "      <td>1</td>\n",
                            "      <td>None</td>\n",
                            "      <td>None</td>\n",
                            "    </tr>\n",
                            "    <tr>\n",
                            "      <th>2</th>\n",
                            "      <td>MLM-NECKLACES</td>\n",
                            "      <td>69847</td>\n",
                            "      <td>5 Collares Plateados Dama Gargantilla Choker -...</td>\n",
                            "      <td>MLM</td>\n",
                            "      <td>2</td>\n",
                            "      <td>None</td>\n",
                            "      <td>None</td>\n",
                            "    </tr>\n",
                            "    <tr>\n",
                            "      <th>3</th>\n",
                            "      <td>MLM-RINGS</td>\n",
                            "      <td>298603</td>\n",
                            "      <td>Lindo Anillo De Bella Crepusculo Twilight Prom...</td>\n",
                            "      <td>MLM</td>\n",
                            "      <td>3</td>\n",
                            "      <td>None</td>\n",
                            "      <td>None</td>\n",
                            "    </tr>\n",
                            "    <tr>\n",
                            "      <th>4</th>\n",
                            "      <td>MLB-WEBCAMS</td>\n",
                            "      <td>345949</td>\n",
                            "      <td>Webcam Com Microfone Hd 720p Knup Youtube Pc V...</td>\n",
                            "      <td>MLB</td>\n",
                            "      <td>4</td>\n",
                            "      <td>None</td>\n",
                            "      <td>None</td>\n",
                            "    </tr>\n",
                            "    <tr>\n",
                            "      <th>...</th>\n",
                            "      <td>...</td>\n",
                            "      <td>...</td>\n",
                            "      <td>...</td>\n",
                            "      <td>...</td>\n",
                            "      <td>...</td>\n",
                            "      <td>...</td>\n",
                            "      <td>...</td>\n",
                            "    </tr>\n",
                            "    <tr>\n",
                            "      <th>660911</th>\n",
                            "      <td>MLB-CELLPHONE_PARTS</td>\n",
                            "      <td>320792</td>\n",
                            "      <td>2 Parafuso Pentalobe Torx iPhone 5 5c 5s 6 6s ...</td>\n",
                            "      <td>MLB</td>\n",
                            "      <td>660911</td>\n",
                            "      <td>None</td>\n",
                            "      <td>None</td>\n",
                            "    </tr>\n",
                            "    <tr>\n",
                            "      <th>660912</th>\n",
                            "      <td>MLM-AUTOMOTIVE_EMBLEMS</td>\n",
                            "      <td>90441</td>\n",
                            "      <td>Emblema Circular Wolfsburg Edition 5cm</td>\n",
                            "      <td>MLM</td>\n",
                            "      <td>660912</td>\n",
                            "      <td>None</td>\n",
                            "      <td>None</td>\n",
                            "    </tr>\n",
                            "    <tr>\n",
                            "      <th>660913</th>\n",
                            "      <td>MLB-SOFA_AND_FUTON_COVERS</td>\n",
                            "      <td>202580</td>\n",
                            "      <td>Kit Capa De Sofá Coladinha Jogo 2e3 Lugares Ma...</td>\n",
                            "      <td>MLB</td>\n",
                            "      <td>660913</td>\n",
                            "      <td>None</td>\n",
                            "      <td>None</td>\n",
                            "    </tr>\n",
                            "    <tr>\n",
                            "      <th>660914</th>\n",
                            "      <td>MLB-SNEAKERS</td>\n",
                            "      <td>490874</td>\n",
                            "      <td>Calçado Sapatênis Clássico Baltic 234 Ollie</td>\n",
                            "      <td>MLB</td>\n",
                            "      <td>660914</td>\n",
                            "      <td>None</td>\n",
                            "      <td>None</td>\n",
                            "    </tr>\n",
                            "    <tr>\n",
                            "      <th>660915</th>\n",
                            "      <td>MLM-SURGICAL_MASKS</td>\n",
                            "      <td>423179</td>\n",
                            "      <td>Cubrebocas Kn95 20 Piezas Pack Válvula Geométr...</td>\n",
                            "      <td>MLM</td>\n",
                            "      <td>660915</td>\n",
                            "      <td>None</td>\n",
                            "      <td>None</td>\n",
                            "    </tr>\n",
                            "  </tbody>\n",
                            "</table>\n",
                            "<p>660916 rows × 7 columns</p>\n",
                            "</div>"
                        ],
                        "text/plain": [
                            "                   item_domain_id  item_id  \\\n",
                            "0                    MLB-SNEAKERS   492155   \n",
                            "1             MLB-SURFBOARD_RACKS   300279   \n",
                            "2                   MLM-NECKLACES    69847   \n",
                            "3                       MLM-RINGS   298603   \n",
                            "4                     MLB-WEBCAMS   345949   \n",
                            "...                           ...      ...   \n",
                            "660911        MLB-CELLPHONE_PARTS   320792   \n",
                            "660912     MLM-AUTOMOTIVE_EMBLEMS    90441   \n",
                            "660913  MLB-SOFA_AND_FUTON_COVERS   202580   \n",
                            "660914               MLB-SNEAKERS   490874   \n",
                            "660915         MLM-SURGICAL_MASKS   423179   \n",
                            "\n",
                            "                                               item_title site_id     sku  \\\n",
                            "0         Tênis Masculino Olympikus Cyber Barato Promoçao     MLB       0   \n",
                            "1       Suporte Rack Prancha Parede C/ Regulagem Horiz...     MLB       1   \n",
                            "2       5 Collares Plateados Dama Gargantilla Choker -...     MLM       2   \n",
                            "3       Lindo Anillo De Bella Crepusculo Twilight Prom...     MLM       3   \n",
                            "4       Webcam Com Microfone Hd 720p Knup Youtube Pc V...     MLB       4   \n",
                            "...                                                   ...     ...     ...   \n",
                            "660911  2 Parafuso Pentalobe Torx iPhone 5 5c 5s 6 6s ...     MLB  660911   \n",
                            "660912             Emblema Circular Wolfsburg Edition 5cm     MLM  660912   \n",
                            "660913  Kit Capa De Sofá Coladinha Jogo 2e3 Lugares Ma...     MLB  660913   \n",
                            "660914        Calçado Sapatênis Clássico Baltic 234 Ollie     MLB  660914   \n",
                            "660915  Cubrebocas Kn95 20 Piezas Pack Válvula Geométr...     MLM  660915   \n",
                            "\n",
                            "       product_id product_family_id  \n",
                            "0            None       MLB15832732  \n",
                            "1            None              None  \n",
                            "2            None              None  \n",
                            "3            None              None  \n",
                            "4            None              None  \n",
                            "...           ...               ...  \n",
                            "660911       None              None  \n",
                            "660912       None              None  \n",
                            "660913       None              None  \n",
                            "660914       None              None  \n",
                            "660915       None              None  \n",
                            "\n",
                            "[660916 rows x 7 columns]"
                        ]
                    },
                    "metadata": {},
                    "execution_count": 10
                }
            ],
            "metadata": {}
        },
        {
            "cell_type": "code",
            "execution_count": 11,
            "source": [
                "items_data.dtypes"
            ],
            "outputs": [
                {
                    "output_type": "execute_result",
                    "data": {
                        "text/plain": [
                            "item_domain_id       object\n",
                            "item_id               int64\n",
                            "item_title           object\n",
                            "site_id              object\n",
                            "sku                   int64\n",
                            "product_id           object\n",
                            "product_family_id    object\n",
                            "dtype: object"
                        ]
                    },
                    "metadata": {},
                    "execution_count": 11
                }
            ],
            "metadata": {}
        },
        {
            "cell_type": "code",
            "execution_count": 12,
            "source": [
                "items_data['item_domain_id'] = items_data['item_domain_id'].astype('category')\r\n",
                "items_data['item_title'] = items_data['item_title'].apply(unidecode).astype('category')\r\n",
                "items_data['site_id'] = items_data['site_id'].astype('category')\r\n",
                "items_data['product_id'] = items_data['product_id'].astype('category')\r\n",
                "items_data['product_family_id'] = items_data['product_family_id'].astype('category')"
            ],
            "outputs": [],
            "metadata": {}
        },
        {
            "cell_type": "code",
            "execution_count": 13,
            "source": [
                "df = train_data.merge(items_data, how='left', on='sku')\r\n",
                "df.shape"
            ],
            "outputs": [
                {
                    "output_type": "execute_result",
                    "data": {
                        "text/plain": [
                            "(37660279, 15)"
                        ]
                    },
                    "metadata": {},
                    "execution_count": 13
                }
            ],
            "metadata": {}
        },
        {
            "cell_type": "markdown",
            "source": [
                "## Análise Exploratória - Primeira Fase\r\n",
                "Agora que temos os dados carregados em memória e tratados para menor consumo de RAM, vamos iniciar a análise exploratória.\r\n",
                "Neste _notebook_ faremos a análise de cada variável de forma independente (ou com relação apenas ao tempo) e depois aprofundaremos as análises para relações entre duas ou mais variáveis.\r\n",
                "Esta análise terá por objetivo entender o preenchimento dos dados e tirar insights para ajudar na futura modelagem do problema."
            ],
            "metadata": {}
        },
        {
            "cell_type": "code",
            "execution_count": 14,
            "source": [
                "df.head()"
            ],
            "outputs": [
                {
                    "output_type": "execute_result",
                    "data": {
                        "text/html": [
                            "<div>\n",
                            "<style scoped>\n",
                            "    .dataframe tbody tr th:only-of-type {\n",
                            "        vertical-align: middle;\n",
                            "    }\n",
                            "\n",
                            "    .dataframe tbody tr th {\n",
                            "        vertical-align: top;\n",
                            "    }\n",
                            "\n",
                            "    .dataframe thead th {\n",
                            "        text-align: right;\n",
                            "    }\n",
                            "</style>\n",
                            "<table border=\"1\" class=\"dataframe\">\n",
                            "  <thead>\n",
                            "    <tr style=\"text-align: right;\">\n",
                            "      <th></th>\n",
                            "      <th>sku</th>\n",
                            "      <th>date</th>\n",
                            "      <th>sold_quantity</th>\n",
                            "      <th>current_price</th>\n",
                            "      <th>currency</th>\n",
                            "      <th>listing_type</th>\n",
                            "      <th>shipping_logistic_type</th>\n",
                            "      <th>shipping_payment</th>\n",
                            "      <th>minutes_active</th>\n",
                            "      <th>item_domain_id</th>\n",
                            "      <th>item_id</th>\n",
                            "      <th>item_title</th>\n",
                            "      <th>site_id</th>\n",
                            "      <th>product_id</th>\n",
                            "      <th>product_family_id</th>\n",
                            "    </tr>\n",
                            "  </thead>\n",
                            "  <tbody>\n",
                            "    <tr>\n",
                            "      <th>0</th>\n",
                            "      <td>464801</td>\n",
                            "      <td>2021-02-01</td>\n",
                            "      <td>0</td>\n",
                            "      <td>156.78</td>\n",
                            "      <td>REA</td>\n",
                            "      <td>classic</td>\n",
                            "      <td>fulfillment</td>\n",
                            "      <td>free_shipping</td>\n",
                            "      <td>1440.0</td>\n",
                            "      <td>MLB-NEBULIZERS</td>\n",
                            "      <td>344151</td>\n",
                            "      <td>Inalador E Nebulizador Infantil Nebdog Superfl...</td>\n",
                            "      <td>MLB</td>\n",
                            "      <td>MLB9838512</td>\n",
                            "      <td>MLB9838510</td>\n",
                            "    </tr>\n",
                            "    <tr>\n",
                            "      <th>1</th>\n",
                            "      <td>464801</td>\n",
                            "      <td>2021-02-02</td>\n",
                            "      <td>0</td>\n",
                            "      <td>156.78</td>\n",
                            "      <td>REA</td>\n",
                            "      <td>classic</td>\n",
                            "      <td>fulfillment</td>\n",
                            "      <td>free_shipping</td>\n",
                            "      <td>1440.0</td>\n",
                            "      <td>MLB-NEBULIZERS</td>\n",
                            "      <td>344151</td>\n",
                            "      <td>Inalador E Nebulizador Infantil Nebdog Superfl...</td>\n",
                            "      <td>MLB</td>\n",
                            "      <td>MLB9838512</td>\n",
                            "      <td>MLB9838510</td>\n",
                            "    </tr>\n",
                            "    <tr>\n",
                            "      <th>2</th>\n",
                            "      <td>464801</td>\n",
                            "      <td>2021-02-03</td>\n",
                            "      <td>0</td>\n",
                            "      <td>156.78</td>\n",
                            "      <td>REA</td>\n",
                            "      <td>classic</td>\n",
                            "      <td>fulfillment</td>\n",
                            "      <td>free_shipping</td>\n",
                            "      <td>1440.0</td>\n",
                            "      <td>MLB-NEBULIZERS</td>\n",
                            "      <td>344151</td>\n",
                            "      <td>Inalador E Nebulizador Infantil Nebdog Superfl...</td>\n",
                            "      <td>MLB</td>\n",
                            "      <td>MLB9838512</td>\n",
                            "      <td>MLB9838510</td>\n",
                            "    </tr>\n",
                            "    <tr>\n",
                            "      <th>3</th>\n",
                            "      <td>464801</td>\n",
                            "      <td>2021-02-04</td>\n",
                            "      <td>0</td>\n",
                            "      <td>156.78</td>\n",
                            "      <td>REA</td>\n",
                            "      <td>classic</td>\n",
                            "      <td>fulfillment</td>\n",
                            "      <td>free_shipping</td>\n",
                            "      <td>1440.0</td>\n",
                            "      <td>MLB-NEBULIZERS</td>\n",
                            "      <td>344151</td>\n",
                            "      <td>Inalador E Nebulizador Infantil Nebdog Superfl...</td>\n",
                            "      <td>MLB</td>\n",
                            "      <td>MLB9838512</td>\n",
                            "      <td>MLB9838510</td>\n",
                            "    </tr>\n",
                            "    <tr>\n",
                            "      <th>4</th>\n",
                            "      <td>464801</td>\n",
                            "      <td>2021-02-05</td>\n",
                            "      <td>1</td>\n",
                            "      <td>156.78</td>\n",
                            "      <td>REA</td>\n",
                            "      <td>classic</td>\n",
                            "      <td>fulfillment</td>\n",
                            "      <td>free_shipping</td>\n",
                            "      <td>1440.0</td>\n",
                            "      <td>MLB-NEBULIZERS</td>\n",
                            "      <td>344151</td>\n",
                            "      <td>Inalador E Nebulizador Infantil Nebdog Superfl...</td>\n",
                            "      <td>MLB</td>\n",
                            "      <td>MLB9838512</td>\n",
                            "      <td>MLB9838510</td>\n",
                            "    </tr>\n",
                            "  </tbody>\n",
                            "</table>\n",
                            "</div>"
                        ],
                        "text/plain": [
                            "      sku       date  sold_quantity  current_price currency listing_type  \\\n",
                            "0  464801 2021-02-01              0         156.78      REA      classic   \n",
                            "1  464801 2021-02-02              0         156.78      REA      classic   \n",
                            "2  464801 2021-02-03              0         156.78      REA      classic   \n",
                            "3  464801 2021-02-04              0         156.78      REA      classic   \n",
                            "4  464801 2021-02-05              1         156.78      REA      classic   \n",
                            "\n",
                            "  shipping_logistic_type shipping_payment  minutes_active  item_domain_id  \\\n",
                            "0            fulfillment    free_shipping          1440.0  MLB-NEBULIZERS   \n",
                            "1            fulfillment    free_shipping          1440.0  MLB-NEBULIZERS   \n",
                            "2            fulfillment    free_shipping          1440.0  MLB-NEBULIZERS   \n",
                            "3            fulfillment    free_shipping          1440.0  MLB-NEBULIZERS   \n",
                            "4            fulfillment    free_shipping          1440.0  MLB-NEBULIZERS   \n",
                            "\n",
                            "   item_id                                         item_title site_id  \\\n",
                            "0   344151  Inalador E Nebulizador Infantil Nebdog Superfl...     MLB   \n",
                            "1   344151  Inalador E Nebulizador Infantil Nebdog Superfl...     MLB   \n",
                            "2   344151  Inalador E Nebulizador Infantil Nebdog Superfl...     MLB   \n",
                            "3   344151  Inalador E Nebulizador Infantil Nebdog Superfl...     MLB   \n",
                            "4   344151  Inalador E Nebulizador Infantil Nebdog Superfl...     MLB   \n",
                            "\n",
                            "   product_id product_family_id  \n",
                            "0  MLB9838512        MLB9838510  \n",
                            "1  MLB9838512        MLB9838510  \n",
                            "2  MLB9838512        MLB9838510  \n",
                            "3  MLB9838512        MLB9838510  \n",
                            "4  MLB9838512        MLB9838510  "
                        ]
                    },
                    "metadata": {},
                    "execution_count": 14
                }
            ],
            "metadata": {}
        },
        {
            "cell_type": "code",
            "execution_count": 15,
            "source": [
                "df.dtypes"
            ],
            "outputs": [
                {
                    "output_type": "execute_result",
                    "data": {
                        "text/plain": [
                            "sku                                int64\n",
                            "date                      datetime64[ns]\n",
                            "sold_quantity                      int64\n",
                            "current_price                    float64\n",
                            "currency                        category\n",
                            "listing_type                    category\n",
                            "shipping_logistic_type          category\n",
                            "shipping_payment                category\n",
                            "minutes_active                   float64\n",
                            "item_domain_id                  category\n",
                            "item_id                            int64\n",
                            "item_title                      category\n",
                            "site_id                         category\n",
                            "product_id                      category\n",
                            "product_family_id               category\n",
                            "dtype: object"
                        ]
                    },
                    "metadata": {},
                    "execution_count": 15
                }
            ],
            "metadata": {}
        },
        {
            "cell_type": "markdown",
            "source": [
                "### SKU - `int64`\r\n",
                "É uma coluna de id, vamos apenas validar que segue todas as propriedades"
            ],
            "metadata": {}
        },
        {
            "cell_type": "code",
            "execution_count": 16,
            "source": [
                "print('count:', df['sku'].count())\r\n",
                "print('NAs:', df['sku'].isna().sum())\r\n",
                "print('min:', df['sku'].min())\r\n",
                "print('max:', df['sku'].max())\r\n",
                "print('uniques:', df['sku'].nunique())"
            ],
            "outputs": [
                {
                    "output_type": "stream",
                    "name": "stdout",
                    "text": [
                        "count: 37660279\n",
                        "NAs: 0\n",
                        "min: 0\n",
                        "max: 660915\n",
                        "uniques: 660916\n"
                    ]
                }
            ],
            "metadata": {}
        },
        {
            "cell_type": "markdown",
            "source": [
                "### Date - `datetime64[ns]`\r\n",
                "\r\n",
                "Coluna de data, aqui temos os dois meses usados para treino: Fevereiro e Março"
            ],
            "metadata": {}
        },
        {
            "cell_type": "code",
            "execution_count": 17,
            "source": [
                "df['date'].isna().sum()"
            ],
            "outputs": [
                {
                    "output_type": "execute_result",
                    "data": {
                        "text/plain": [
                            "0"
                        ]
                    },
                    "metadata": {},
                    "execution_count": 17
                }
            ],
            "metadata": {}
        },
        {
            "cell_type": "markdown",
            "source": [
                "Temos mais registros referentes ao mês de Março"
            ],
            "metadata": {}
        },
        {
            "cell_type": "code",
            "execution_count": 18,
            "source": [
                "df['date'].dt.month.value_counts().plot.bar()"
            ],
            "outputs": [
                {
                    "output_type": "execute_result",
                    "data": {
                        "text/plain": [
                            "<AxesSubplot:>"
                        ]
                    },
                    "metadata": {},
                    "execution_count": 18
                },
                {
                    "output_type": "display_data",
                    "data": {
                        "image/png": "[encoded data removed]",
                        "text/plain": [
                            "<Figure size 432x288 with 1 Axes>"
                        ]
                    },
                    "metadata": {
                        "needs_background": "light"
                    }
                }
            ],
            "metadata": {}
        },
        {
            "cell_type": "markdown",
            "source": [
                "Vemos uma queda brusca na quantidade de registros nos dias 29, 30 e 31, isso se dá por conta de um dos meses ser Fevereiro, o qual possui apenas 28 dias.\r\n",
                "Olhando para os dias 1-28, vemos algo que parece uma tendência de subida na quantidade de registros. O que isto quer dizer?"
            ],
            "metadata": {}
        },
        {
            "cell_type": "code",
            "execution_count": 19,
            "source": [
                "df['date'].dt.day.value_counts().plot.bar()"
            ],
            "outputs": [
                {
                    "output_type": "execute_result",
                    "data": {
                        "text/plain": [
                            "<AxesSubplot:>"
                        ]
                    },
                    "metadata": {},
                    "execution_count": 19
                },
                {
                    "output_type": "display_data",
                    "data": {
                        "image/png": "[encoded data removed]",
                        "text/plain": [
                            "<Figure size 432x288 with 1 Axes>"
                        ]
                    },
                    "metadata": {
                        "needs_background": "light"
                    }
                }
            ],
            "metadata": {}
        },
        {
            "cell_type": "markdown",
            "source": [
                "Vamos comparar a quantidade de registros entre os meses desconsiderando os dias 29, 30 e 31 de março. Ainda temos mais registros para Março."
            ],
            "metadata": {}
        },
        {
            "cell_type": "code",
            "execution_count": 25,
            "source": [
                "filter_last_days = df['date'].dt.day < 29\r\n",
                "df[filter_last_days]['date'].dt.month.value_counts().plot.bar()"
            ],
            "outputs": [
                {
                    "output_type": "execute_result",
                    "data": {
                        "text/plain": [
                            "<AxesSubplot:>"
                        ]
                    },
                    "metadata": {},
                    "execution_count": 25
                },
                {
                    "output_type": "display_data",
                    "data": {
                        "image/png": "[encoded data removed]",
                        "text/plain": [
                            "<Figure size 432x288 with 1 Axes>"
                        ]
                    },
                    "metadata": {
                        "needs_background": "light"
                    }
                }
            ],
            "metadata": {}
        },
        {
            "cell_type": "markdown",
            "source": [
                "Olhando para cada semana do ano, a leve tendência de mais registros conforme o tempo passa continua."
            ],
            "metadata": {}
        },
        {
            "cell_type": "code",
            "execution_count": 31,
            "source": [
                "df[filter_last_days]['date'].dt.week.value_counts().plot.bar()"
            ],
            "outputs": [
                {
                    "output_type": "stream",
                    "name": "stderr",
                    "text": [
                        "<ipython-input-31-59ca919a3701>:1: FutureWarning: Series.dt.weekofyear and Series.dt.week have been deprecated.  Please use Series.dt.isocalendar().week instead.\n",
                        "  df[filter_last_days]['date'].dt.week.value_counts().plot.bar()\n"
                    ]
                },
                {
                    "output_type": "execute_result",
                    "data": {
                        "text/plain": [
                            "<AxesSubplot:>"
                        ]
                    },
                    "metadata": {},
                    "execution_count": 31
                },
                {
                    "output_type": "display_data",
                    "data": {
                        "image/png": "[encoded data removed]",
                        "text/plain": [
                            "<Figure size 432x288 with 1 Axes>"
                        ]
                    },
                    "metadata": {
                        "needs_background": "light"
                    }
                }
            ],
            "metadata": {}
        },
        {
            "cell_type": "markdown",
            "source": [
                "A distribuição de datas ao longo da semana é uniforme. Não apresenta mais registros em certos dias da semana."
            ],
            "metadata": {}
        },
        {
            "cell_type": "code",
            "execution_count": 43,
            "source": [
                "df[filter_last_days]['date'].dt.weekday.value_counts().plot.bar()"
            ],
            "outputs": [
                {
                    "output_type": "execute_result",
                    "data": {
                        "text/plain": [
                            "<AxesSubplot:>"
                        ]
                    },
                    "metadata": {},
                    "execution_count": 43
                },
                {
                    "output_type": "display_data",
                    "data": {
                        "image/png": "[encoded data removed]",
                        "text/plain": [
                            "<Figure size 432x288 with 1 Axes>"
                        ]
                    },
                    "metadata": {
                        "needs_background": "light"
                    }
                }
            ],
            "metadata": {}
        },
        {
            "cell_type": "markdown",
            "source": [
                "### Sold Quantity - `int64`\r\n",
                "\r\n",
                "Quantidade de unidades vendidas no dia de referência"
            ],
            "metadata": {}
        },
        {
            "cell_type": "markdown",
            "source": [
                "### Current Price - `float64`\r\n",
                "\r\n",
                "Preço do anúncio no dia de referência"
            ],
            "metadata": {}
        },
        {
            "cell_type": "markdown",
            "source": [
                "### Currency - `category`\r\n",
                "\r\n",
                "Em qual moeda está o preço do anúncio"
            ],
            "metadata": {}
        },
        {
            "cell_type": "markdown",
            "source": [
                "### Listing Type - `category`\r\n",
                "\r\n",
                "Qual o tipo do anúncio"
            ],
            "metadata": {}
        },
        {
            "cell_type": "markdown",
            "source": [
                "### Shipping Logistic Type - `category`\r\n",
                "\r\n",
                "Tipo do frete"
            ],
            "metadata": {}
        },
        {
            "cell_type": "markdown",
            "source": [
                "### Shipping Payment - `category`\r\n",
                "Comprador paga pelo frete?"
            ],
            "metadata": {}
        },
        {
            "cell_type": "markdown",
            "source": [
                "### Minutes Active - `float64`\r\n",
                "Quantos minutos o anúncio ficou ativo no dia"
            ],
            "metadata": {}
        },
        {
            "cell_type": "markdown",
            "source": [
                "### Item Domain ID - `category`\r\n",
                "A qual domínio este item pertence"
            ],
            "metadata": {}
        },
        {
            "cell_type": "markdown",
            "source": [
                "### Item ID - `int64`\r\n",
                "Identificador do item"
            ],
            "metadata": {}
        },
        {
            "cell_type": "markdown",
            "source": [
                "### Item Title - `category`\r\n",
                "Texto do título do anúncio"
            ],
            "metadata": {}
        },
        {
            "cell_type": "markdown",
            "source": [
                "### Site ID - `category`\r\n",
                "Em qual MercadoLivre está anunciado?"
            ],
            "metadata": {}
        },
        {
            "cell_type": "markdown",
            "source": [
                "### Product ID - `category` \r\n",
                "Qual é este produto"
            ],
            "metadata": {}
        },
        {
            "cell_type": "markdown",
            "source": [
                "### Product Family ID - `category`\r\n",
                "A qual família este produto pertence"
            ],
            "metadata": {}
        }
    ],
    "metadata": {
        "orig_nbformat": 4,
        "language_info": {
            "name": "python",
            "version": "3.8.8",
            "mimetype": "text/x-python",
            "codemirror_mode": {
                "name": "ipython",
                "version": 3
            },
            "pygments_lexer": "ipython3",
            "nbconvert_exporter": "python",
            "file_extension": ".py"
        },
        "kernelspec": {
            "name": "python3",
            "display_name": "Python 3.8.8 64-bit ('base': conda)"
        },
        "interpreter": {
            "hash": "003ac9aaa1485d5b771c302278ee1fa2d675754790301e4c4d0b7cf7d8ab189c"
        }
    },
    "nbformat": 4,
    "nbformat_minor": 2
}